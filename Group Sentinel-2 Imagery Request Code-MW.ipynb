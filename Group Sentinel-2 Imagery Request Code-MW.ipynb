{
 "cells": [
  {
   "cell_type": "code",
   "execution_count": 1,
   "id": "35157824",
   "metadata": {},
   "outputs": [],
   "source": [
    "# Sentinel API code. Import and install sentinelsat package if not already\n",
    "# import sys\n",
    "# !{sys.executable} -m pip install sentinelsat\n",
    "# Then import required packages\n",
    "# SentinelAPI - Class to connect to Copernicus Open Access Hub, search and download imagery.\n",
    "# read_geojson - Import a geojson file for use.\n",
    "# geojson_to_wkt - Convert a GeoJSON object to Well-Known Text. \n",
    "    # Intended for use with OpenSearch queries. 3D points are converted to 2D.\n",
    "import sentinelsat\n",
    "from sentinelsat import SentinelAPI, read_geojson, geojson_to_wkt\n",
    "from datetime import date"
   ]
  },
  {
   "cell_type": "code",
   "execution_count": 2,
   "id": "3ed64c48",
   "metadata": {},
   "outputs": [
    {
     "data": {
      "text/plain": [
       "<sentinelsat.sentinel.SentinelAPI at 0x234c00491f0>"
      ]
     },
     "execution_count": 2,
     "metadata": {},
     "output_type": "execute_result"
    }
   ],
   "source": [
    "# Create API object with username/password\n",
    "api = SentinelAPI(\n",
    "    'username', \n",
    "    'Password, \n",
    "    'https://apihub.copernicus.eu/apihub'\n",
    ")\n",
    "api"
   ]
  },
  {
   "cell_type": "code",
   "execution_count": 3,
   "id": "6dd2f845",
   "metadata": {},
   "outputs": [
    {
     "data": {
      "text/plain": [
       "'POINT(-77.8926 39.0637)'"
      ]
     },
     "execution_count": 3,
     "metadata": {},
     "output_type": "execute_result"
    }
   ],
   "source": [
    "# Create geojson\n",
    "my_geojson = {\n",
    "  \"type\": \"Feature\", # define GeoJSON type. As it's a single geometry, it's just a single 'Feature'\n",
    "  \"geometry\": {\n",
    "\t\"type\": \"Point\", # define the geometry type, which is a point\n",
    "\t\"coordinates\": [ # Here are the actual geometry coordinates\n",
    "\t\t  -77.89261372802153,\n",
    "\t\t  39.06367803149276, \n",
    "\t\t],\n",
    "  },\n",
    "    \"properties\": {'id': 'WHF'}, # Geometry ID\n",
    "}\n",
    "my_geojson\n",
    "footprint = geojson_to_wkt(my_geojson) # Convert Well Known Text (WKT) format\n",
    "footprint"
   ]
  },
  {
   "cell_type": "code",
   "execution_count": 4,
   "id": "aef3c551",
   "metadata": {},
   "outputs": [
    {
     "data": {
      "text/plain": [
       "4"
      ]
     },
     "execution_count": 4,
     "metadata": {},
     "output_type": "execute_result"
    }
   ],
   "source": [
    "# Set API query by point, time, and SciHub query keywords\n",
    "image_metadata = api.query(\n",
    "    footprint,\n",
    "    date=('20211020', '20211021'), # set dates(2015, 12, 29)\n",
    "    platformname='Sentinel-2'                    \n",
    ")\n",
    "image_metadata\n",
    "len(image_metadata) # how many images"
   ]
  },
  {
   "cell_type": "code",
   "execution_count": 6,
   "id": "a9f63922",
   "metadata": {},
   "outputs": [],
   "source": [
    "# Save to a dataframe\n",
    "import pandas as pd\n",
    "image_metadata_df = api.to_dataframe(image_metadata)\n",
    "image_metadata_df.to_csv('metadata.csv')"
   ]
  },
  {
   "cell_type": "code",
   "execution_count": 7,
   "id": "10243787",
   "metadata": {},
   "outputs": [],
   "source": [
    "# sort data based on the cloud cover of each image, and the date the image was ingested\n",
    "image_metadata_df_sorted = image_metadata_df.sort_values(\n",
    "    ['cloudcoverpercentage'], ascending=[True])\n",
    "image_metadata_df_sorted.to_csv('metadata_sorted.csv')"
   ]
  },
  {
   "cell_type": "code",
   "execution_count": 8,
   "id": "52f1a186",
   "metadata": {},
   "outputs": [
    {
     "data": {
      "text/html": [
       "<div>\n",
       "<style scoped>\n",
       "    .dataframe tbody tr th:only-of-type {\n",
       "        vertical-align: middle;\n",
       "    }\n",
       "\n",
       "    .dataframe tbody tr th {\n",
       "        vertical-align: top;\n",
       "    }\n",
       "\n",
       "    .dataframe thead th {\n",
       "        text-align: right;\n",
       "    }\n",
       "</style>\n",
       "<table border=\"1\" class=\"dataframe\">\n",
       "  <thead>\n",
       "    <tr style=\"text-align: right;\">\n",
       "      <th></th>\n",
       "      <th>title</th>\n",
       "      <th>link</th>\n",
       "      <th>link_alternative</th>\n",
       "      <th>link_icon</th>\n",
       "      <th>summary</th>\n",
       "      <th>ondemand</th>\n",
       "      <th>generationdate</th>\n",
       "      <th>beginposition</th>\n",
       "      <th>endposition</th>\n",
       "      <th>ingestiondate</th>\n",
       "      <th>...</th>\n",
       "      <th>platformserialidentifier</th>\n",
       "      <th>processinglevel</th>\n",
       "      <th>datastripidentifier</th>\n",
       "      <th>granuleidentifier</th>\n",
       "      <th>identifier</th>\n",
       "      <th>uuid</th>\n",
       "      <th>datatakesensingstart</th>\n",
       "      <th>sensoroperationalmode</th>\n",
       "      <th>tileid</th>\n",
       "      <th>hv_order_tileid</th>\n",
       "    </tr>\n",
       "  </thead>\n",
       "  <tbody>\n",
       "    <tr>\n",
       "      <th>937afe46-7556-40a6-a3e5-2f5638701605</th>\n",
       "      <td>S2B_MSIL1C_20211020T160209_N0301_R097_T17SQD_2...</td>\n",
       "      <td>https://apihub.copernicus.eu/apihub/odata/v1/P...</td>\n",
       "      <td>https://apihub.copernicus.eu/apihub/odata/v1/P...</td>\n",
       "      <td>https://apihub.copernicus.eu/apihub/odata/v1/P...</td>\n",
       "      <td>Date: 2021-10-20T16:02:09.024Z, Instrument: MS...</td>\n",
       "      <td>false</td>\n",
       "      <td>2021-10-20 19:52:50</td>\n",
       "      <td>2021-10-20 16:02:09.024</td>\n",
       "      <td>2021-10-20 16:02:09.024</td>\n",
       "      <td>2021-10-20 22:00:52.751</td>\n",
       "      <td>...</td>\n",
       "      <td>Sentinel-2B</td>\n",
       "      <td>Level-1C</td>\n",
       "      <td>S2B_OPER_MSI_L1C_DS_VGS2_20211020T195250_S2021...</td>\n",
       "      <td>S2B_OPER_MSI_L1C_TL_VGS2_20211020T195250_A0241...</td>\n",
       "      <td>S2B_MSIL1C_20211020T160209_N0301_R097_T17SQD_2...</td>\n",
       "      <td>937afe46-7556-40a6-a3e5-2f5638701605</td>\n",
       "      <td>2021-10-20 16:02:09.024</td>\n",
       "      <td>INS-NOBS</td>\n",
       "      <td>17SQD</td>\n",
       "      <td>SD17Q</td>\n",
       "    </tr>\n",
       "  </tbody>\n",
       "</table>\n",
       "<p>1 rows × 46 columns</p>\n",
       "</div>"
      ],
      "text/plain": [
       "                                                                                  title  \\\n",
       "937afe46-7556-40a6-a3e5-2f5638701605  S2B_MSIL1C_20211020T160209_N0301_R097_T17SQD_2...   \n",
       "\n",
       "                                                                                   link  \\\n",
       "937afe46-7556-40a6-a3e5-2f5638701605  https://apihub.copernicus.eu/apihub/odata/v1/P...   \n",
       "\n",
       "                                                                       link_alternative  \\\n",
       "937afe46-7556-40a6-a3e5-2f5638701605  https://apihub.copernicus.eu/apihub/odata/v1/P...   \n",
       "\n",
       "                                                                              link_icon  \\\n",
       "937afe46-7556-40a6-a3e5-2f5638701605  https://apihub.copernicus.eu/apihub/odata/v1/P...   \n",
       "\n",
       "                                                                                summary  \\\n",
       "937afe46-7556-40a6-a3e5-2f5638701605  Date: 2021-10-20T16:02:09.024Z, Instrument: MS...   \n",
       "\n",
       "                                     ondemand      generationdate  \\\n",
       "937afe46-7556-40a6-a3e5-2f5638701605    false 2021-10-20 19:52:50   \n",
       "\n",
       "                                               beginposition  \\\n",
       "937afe46-7556-40a6-a3e5-2f5638701605 2021-10-20 16:02:09.024   \n",
       "\n",
       "                                                 endposition  \\\n",
       "937afe46-7556-40a6-a3e5-2f5638701605 2021-10-20 16:02:09.024   \n",
       "\n",
       "                                               ingestiondate  ...  \\\n",
       "937afe46-7556-40a6-a3e5-2f5638701605 2021-10-20 22:00:52.751  ...   \n",
       "\n",
       "                                      platformserialidentifier  \\\n",
       "937afe46-7556-40a6-a3e5-2f5638701605               Sentinel-2B   \n",
       "\n",
       "                                      processinglevel  \\\n",
       "937afe46-7556-40a6-a3e5-2f5638701605         Level-1C   \n",
       "\n",
       "                                                                    datastripidentifier  \\\n",
       "937afe46-7556-40a6-a3e5-2f5638701605  S2B_OPER_MSI_L1C_DS_VGS2_20211020T195250_S2021...   \n",
       "\n",
       "                                                                      granuleidentifier  \\\n",
       "937afe46-7556-40a6-a3e5-2f5638701605  S2B_OPER_MSI_L1C_TL_VGS2_20211020T195250_A0241...   \n",
       "\n",
       "                                                                             identifier  \\\n",
       "937afe46-7556-40a6-a3e5-2f5638701605  S2B_MSIL1C_20211020T160209_N0301_R097_T17SQD_2...   \n",
       "\n",
       "                                                                      uuid  \\\n",
       "937afe46-7556-40a6-a3e5-2f5638701605  937afe46-7556-40a6-a3e5-2f5638701605   \n",
       "\n",
       "                                        datatakesensingstart  \\\n",
       "937afe46-7556-40a6-a3e5-2f5638701605 2021-10-20 16:02:09.024   \n",
       "\n",
       "                                      sensoroperationalmode  tileid  \\\n",
       "937afe46-7556-40a6-a3e5-2f5638701605               INS-NOBS   17SQD   \n",
       "\n",
       "                                      hv_order_tileid  \n",
       "937afe46-7556-40a6-a3e5-2f5638701605            SD17Q  \n",
       "\n",
       "[1 rows x 46 columns]"
      ]
     },
     "execution_count": 8,
     "metadata": {},
     "output_type": "execute_result"
    }
   ],
   "source": [
    "#subset using .head function or index to row\n",
    "image_metadata_df_sorted = image_metadata_df_sorted.head(1)       # iloc[[8]] # index to desired row/image instead\n",
    "(image_metadata_df_sorted)"
   ]
  },
  {
   "cell_type": "code",
   "execution_count": null,
   "id": "d0171d33",
   "metadata": {
    "scrolled": true
   },
   "outputs": [
    {
     "data": {
      "application/vnd.jupyter.widget-view+json": {
       "model_id": "1324b3e154b646a2ab3fb97ce7845824",
       "version_major": 2,
       "version_minor": 0
      },
      "text/plain": [
       "Downloading products:   0%|          | 0/1 [00:00<?, ?product/s]"
      ]
     },
     "metadata": {},
     "output_type": "display_data"
    },
    {
     "data": {
      "application/vnd.jupyter.widget-view+json": {
       "model_id": "7ebda36e3f454e3cb611f74b776348ba",
       "version_major": 2,
       "version_minor": 0
      },
      "text/plain": [
       "LTA retrieval:   0%|          | 0/1 [00:00<?, ?product/s]"
      ]
     },
     "metadata": {},
     "output_type": "display_data"
    }
   ],
   "source": [
    "api.download_all(image_metadata_df_sorted.index) # download the image"
   ]
  },
  {
   "cell_type": "code",
   "execution_count": null,
   "id": "28c81f30",
   "metadata": {},
   "outputs": [],
   "source": []
  }
 ],
 "metadata": {
  "kernelspec": {
   "display_name": "Python 3 (ipykernel)",
   "language": "python",
   "name": "python3"
  },
  "language_info": {
   "codemirror_mode": {
    "name": "ipython",
    "version": 3
   },
   "file_extension": ".py",
   "mimetype": "text/x-python",
   "name": "python",
   "nbconvert_exporter": "python",
   "pygments_lexer": "ipython3",
   "version": "3.9.13"
  }
 },
 "nbformat": 4,
 "nbformat_minor": 5
}
